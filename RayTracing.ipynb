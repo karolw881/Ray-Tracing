{
  "nbformat": 4,
  "nbformat_minor": 0,
  "metadata": {
    "colab": {
      "provenance": []
    },
    "kernelspec": {
      "name": "python3",
      "display_name": "Python 3"
    },
    "language_info": {
      "name": "python"
    },
    "accelerator": "GPU",
    "gpuClass": "standard"
  },
  "cells": [
    {
      "cell_type": "markdown",
      "source": [
        "# Sprawozdanie z zajęć nr 9\n",
        "## Programowanie Równolegle i Rozproszone 2022/2023\n",
        "### Uniwersytet w Białymstoku\n",
        "### Karol Wójcik\n",
        "### 80292"
      ],
      "metadata": {
        "id": "YqAPYuwhXxyW"
      }
    },
    {
      "cell_type": "markdown",
      "source": [
        "#1. Dokonaj przekształcenia plików z wygenerowaną sceną 3D do postaci plików graficznych,\n",
        "#które wyświetlisz.\n",
        "#2. Przedstaw na wykresach porównanie czasów wykonania programów na GPU (Colab) oraz\n",
        "#CPU (Colab oraz komputer stacjonarny, kod należy napisać na podstawie dostępnej wersji\n",
        "#programu na GPU) w zależności od rozmiaru problemu (stała DIM). W optymalnym\n",
        "#przypadku wykresy powinny zostać wyświetlone z matplotlib bezpośrednio w Colab.\n",
        "#3. Zrealizuj pracę w postaci sprawozdania w Google Colab – dokonaj także opisu programów i\n",
        "#zrealizowanych czynności – ma to mieć postać tutoriala dla osoby, która nie na  związku z\n",
        "#przedmiotem"
      ],
      "metadata": {
        "id": "iW5_OZriXx8E"
      }
    },
    {
      "cell_type": "markdown",
      "source": [
        "# Zapraszam na dysk w którym są zdjecia wygenerowanymi kulami Jedno zdjecie z podstawowymi kulami, drugie lekko zmodyfikowane\n",
        "\n",
        "https://drive.google.com/drive/folders/1DzqlUiPvbAacNRjjvMXClgZyVZ3zfoKk?usp=sharing\n"
      ],
      "metadata": {
        "id": "s42JZdhiXx-8"
      }
    },
    {
      "cell_type": "markdown",
      "source": [
        "## 1. zmiana środowiska wykonawczego z CPU na GPU \n",
        "## Środowisko wykonawcze - > Zmień typ środowiska wykonawczego - > GPU - > ZAPISZ\n",
        "## 2. Instalacja i sprawdzenie wersji \n"
      ],
      "metadata": {
        "id": "sj1mCqqIz5Yl"
      }
    },
    {
      "cell_type": "code",
      "source": [
        "!nvcc --version\n",
        "!pip install git+https://github.com/andreinechaev/nvcc4jupyter.git\n",
        "%load_ext nvcc_plugin"
      ],
      "metadata": {
        "colab": {
          "base_uri": "https://localhost:8080/"
        },
        "id": "GB1ptMDVXY8N",
        "outputId": "4465ca65-6b55-4c69-a6f4-997d14de399e"
      },
      "execution_count": 3,
      "outputs": [
        {
          "output_type": "stream",
          "name": "stdout",
          "text": [
            "nvcc: NVIDIA (R) Cuda compiler driver\n",
            "Copyright (c) 2005-2021 NVIDIA Corporation\n",
            "Built on Sun_Feb_14_21:12:58_PST_2021\n",
            "Cuda compilation tools, release 11.2, V11.2.152\n",
            "Build cuda_11.2.r11.2/compiler.29618528_0\n",
            "Looking in indexes: https://pypi.org/simple, https://us-python.pkg.dev/colab-wheels/public/simple/\n",
            "Collecting git+https://github.com/andreinechaev/nvcc4jupyter.git\n",
            "  Cloning https://github.com/andreinechaev/nvcc4jupyter.git to /tmp/pip-req-build-p3budhlt\n",
            "  Running command git clone --filter=blob:none --quiet https://github.com/andreinechaev/nvcc4jupyter.git /tmp/pip-req-build-p3budhlt\n",
            "  Resolved https://github.com/andreinechaev/nvcc4jupyter.git to commit aac710a35f52bb78ab34d2e52517237941399eff\n",
            "  Preparing metadata (setup.py) ... \u001b[?25l\u001b[?25hdone\n",
            "Building wheels for collected packages: NVCCPlugin\n",
            "  Building wheel for NVCCPlugin (setup.py) ... \u001b[?25l\u001b[?25hdone\n",
            "  Created wheel for NVCCPlugin: filename=NVCCPlugin-0.0.2-py3-none-any.whl size=4304 sha256=7f8e3963ed3666843f9a52bb3bcc3e2c0ea392d728c3efb0771421aa2632c6fe\n",
            "  Stored in directory: /tmp/pip-ephem-wheel-cache-ufwg6z_t/wheels/f3/08/cc/e2b5b0e1c92df07dbb50a6f024a68ce090f5e7b2316b41756d\n",
            "Successfully built NVCCPlugin\n",
            "Installing collected packages: NVCCPlugin\n",
            "Successfully installed NVCCPlugin-0.0.2\n",
            "created output directory at /content/src\n",
            "Out bin /content/result.out\n"
          ]
        }
      ]
    },
    {
      "cell_type": "markdown",
      "source": [
        "# GPU \n",
        "### Wersja na GPU "
      ],
      "metadata": {
        "id": "FBCrnajEvXYT"
      }
    },
    {
      "cell_type": "markdown",
      "source": [
        "### Wykorzystujaca karte graficza\n",
        "\n",
        "# Opis programu\n",
        "\n",
        "## 1. %%cu - wykorzystane by moc kompilowac kod cuda w Google Collab \n",
        "## 2. Definicje Preprocesora i zaimportowanie biblioteki\n",
        "## 3. Stworzenie Struktury Sphere, reprezentuje ona kule w przestrzeni 3D\n",
        "## 4. if w Sphere\n",
        "### Warunek dx*dx + dy*dy < radius*radius sprawdza, czy \n",
        "### odległość piksela od środka kuli jest mniejsza od promienia kuli. Jeśli tak, to promień przecina się z kulą.\n",
        "\n",
        "### Zmienna dz jest obliczana jako pierwiastek kwadratu odległości (sqrtf( radius*radius - dx*dx - dy*dy )). Jest to wysokość przecięcia promienia z kulą.\n",
        "\n",
        "### Zmienna n jest wskaźnikiem do zmiennej, do której kernel zapisze kąt padania promienia na powierzchnię kuli. Kąt ten jest obliczany jako stosunek wysokości przecięcia do promienia kuli (dz / sqrtf( radius * radius )).\n",
        "\n",
        "### Wartość zwracana przez fragment kodu to wysokość przecięcia promienia z kulą (dz) powiększona o współrzędną z kuli (z).\n",
        "\n",
        "### Jeśli promień nie przecina się z kulą, to warunek dx*dx + dy*dy < radius*radius jest fałszywy i fragment kodu nie jest wykonywany. W takim przypadku kernel zwraca wartość -INF, co oznacza, że promień nie przecina się z żadnym obiektem.\n",
        "## 5.\n",
        "### Kernel kernel jest funkcją CUDA, która jest wykonywana na karcie graficznej. Ma ona dwa argumenty: wskaźnik do tablicy obiektów typu Sphere oraz wskaźnik do tablicy kolorów pikseli. Dla każdego pikselu kernel przeprowadza symulację promienia światła przechodzącego przez scenę i oblicza kolor danego piksela na podstawie obiektów, z którymi promień ten się przecina. W szczególności, dla każdego pikselu kernel wyznacza pozycję piksela w przestrzeni 3D i dla każdej kuli w tablicy sprawdza, czy promień wyznaczony przez pozycję piksela przecina się z kulą. Jeśli tak, to kernel oblicza kolor piksela na podstawie koloru kuli i przeprowadzonego przecięcia oraz zapisuje wynik w tablicy kolorów pikseli.\n",
        "\n",
        "## 6.\n",
        "### Funkcja main jest główną funkcją programu i jest wykonywana na procesorze (host). Jej głównym zadaniem jest przygotowanie danych i parametrów potrzebnych do uruchomienia jądra kernel na karcie graficznej oraz zapisanie wyniku do pliku.\n",
        "\n",
        "### W szczególności:\n",
        "\n",
        "### Tworzone są zmienne bitmap i dev_bitmap, które reprezentują tablicę kolorów pikseli oraz odpowiednik tej tablicy zarezerwowany w pamięci karty graficznej.\n",
        "\n",
        "### Alokowana jest pamięć na karcie graficznej dla tablicy kolorów pikseli oraz dla tablicy obiektów Sphere.\n",
        "\n",
        "### Tworzona jest tablica temp_s obiektów Sphere, która jest inicjalizowana losowymi danymi i kopiowana do pamięci karty graficznej.\n",
        "\n",
        "### Uruchamiane są zdarzenia start i stop, które służą do mierzenia czasu wykonania kernela.\n",
        "\n",
        "### Uruchamiane jest jądro kernel z odpowiednimi parametrami.\n",
        "\n",
        "### Po zakończeniu pracy jądra pobierane są wyniki z pamięci karty graficznej i zapisywane do pliku.\n",
        "\n",
        "### Zwalniane są zarezerwowane zasoby (pamięć na karcie graficznej i zdarzenia).\n",
        "\n",
        "### 7. save to file zapisuje plik do plik .ppm\n",
        "\n",
        " "
      ],
      "metadata": {
        "id": "BUh0o3Jp1y5H"
      }
    },
    {
      "cell_type": "code",
      "source": [],
      "metadata": {
        "id": "pBRFEZvkTX-d"
      },
      "execution_count": null,
      "outputs": []
    },
    {
      "cell_type": "code",
      "source": [
        "%%cu\n",
        "#include <stdio.h>\n",
        "#define DIM 6000\n",
        "#define rnd( x ) (x * rand() / RAND_MAX)\n",
        "#define INF     2e10f\n",
        "\n",
        "struct Sphere {\n",
        "    float   r,b,g;\n",
        "    float   radius;\n",
        "    float   x,y,z;\n",
        "    __device__ float hit( float ox, float oy, float *n ) {\n",
        "        float dx = ox - x;\n",
        "        float dy = oy - y;\n",
        "        if (dx*dx + dy*dy < radius*radius) {\n",
        "            float dz = sqrtf( radius*radius - dx*dx - dy*dy );\n",
        "            *n = dz / sqrtf( radius * radius );\n",
        "            return dz + z;\n",
        "        }\n",
        "        return -INF;\n",
        "    }\n",
        "};\n",
        "#define SPHERES 20\n",
        "\n",
        "\n",
        "__global__ void kernel( Sphere *s, unsigned char *ptr ) {\n",
        "    // map from threadIdx/BlockIdx to pixel position\n",
        "    int x = threadIdx.x + blockIdx.x * blockDim.x;\n",
        "    int y = threadIdx.y + blockIdx.y * blockDim.y;\n",
        "    int offset = x + y * blockDim.x * gridDim.x;\n",
        "    float   ox = (x - DIM/2);\n",
        "    float   oy = (y - DIM/2);\n",
        "\n",
        "    float   r=0, g=0, b=0;\n",
        "    float   maxz = -INF;\n",
        "    for(int i=0; i<SPHERES; i++) {\n",
        "        float   n;\n",
        "        float   t = s[i].hit( ox, oy, &n );\n",
        "        if (t > maxz) {\n",
        "            float fscale = n;\n",
        "            r = s[i].r * fscale;\n",
        "            g = s[i].g * fscale;\n",
        "            b = s[i].b * fscale;\n",
        "            maxz = t;\n",
        "        }\n",
        "    } \n",
        "\n",
        "    ptr[offset*4 + 0] = (int)(r * 255);\n",
        "    ptr[offset*4 + 1] = (int)(g * 255);\n",
        "    ptr[offset*4 + 2] = (int)(b * 255);\n",
        "    ptr[offset*4 + 3] = 255;\n",
        "}\n",
        "\n",
        "struct DataBlock{\n",
        "    unsigned char *dev_bitmap;\n",
        "};\n",
        "\n",
        "void save_to_file(unsigned char *ptr){\n",
        "  FILE *fp=fopen(\"RayTracingGPU.ppm\",\"w\");\n",
        "  fprintf(fp,\"P3\\n%d %d\\n255\\n\", DIM, DIM);\n",
        "  for(int y=0;y<DIM;y++){\n",
        "    for(int x=0;x<DIM;x++){\n",
        "      int offset=x+y*DIM;\n",
        "      fprintf(fp,\"\\n%d %d %d\", ptr[offset*4+0], ptr[offset*4+1], ptr[offset*4+2]);\n",
        "    }\n",
        "  }\n",
        "  fclose(fp);\n",
        "}\n",
        "\n",
        "\n",
        "int main(void) {\n",
        "\n",
        "  // capture the start time \n",
        "  // capture the start time \n",
        "  cudaEvent_t start, stop;\n",
        "  cudaEventCreate( &start );\n",
        "  cudaEventCreate( &stop);\n",
        "  \n",
        "  DataBlock data;\n",
        "  unsigned char *bitmap = (unsigned char*)malloc(DIM* DIM*4* sizeof(unsigned char));\n",
        "  int image_size = DIM* DIM*4;\n",
        "  unsigned char *dev_bitmap;\n",
        "\n",
        "  cudaMalloc((void**)&dev_bitmap, image_size); \n",
        "  data.dev_bitmap=dev_bitmap;\n",
        "  Sphere *s;\n",
        "\n",
        "// allocate memory for the Sphere dataset\n",
        "\n",
        "cudaMalloc((void**)&s, sizeof(Sphere)* SPHERES );\n",
        "\n",
        "// allocate temp memory, initialize it, copy to\n",
        "\n",
        "// memory on the GPU, then free our temp memory\n",
        "\n",
        "Sphere *temp_s = (Sphere*)malloc(sizeof(Sphere)* SPHERES );\n",
        "\n",
        "for (int i=0; i<SPHERES; i++) {\n",
        "     temp_s[i].r = rnd( 1.0f);\n",
        "     temp_s[i].g= rnd( 1.0f);\n",
        "     temp_s[1].b= rnd( 1.0f);\n",
        "     temp_s[i].x =rnd( 1000.0f)- 500;\n",
        "     temp_s[i].y =rnd( 1000.0f) - 500;\n",
        "     temp_s[1].z = rnd( 1000.0f) - 500;\n",
        "     temp_s[i].radius = rnd( 100.0f) + 20;\n",
        "     cudaMemcpy( s, temp_s, sizeof(Sphere)* SPHERES, cudaMemcpyHostToDevice);\n",
        "     free( temp_s);\n",
        "}\n",
        "\n",
        "dim3 block(16, 16);\n",
        "dim3 grid((DIM + block.x - 1) / block.x, (DIM + block.y - 1) / block.y);\n",
        "\n",
        "// capture the start time \n",
        "cudaEventRecord( start, 0);\n",
        "\n",
        "// execute the kernel\n",
        "kernel<<<grid, block>>>(s, dev_bitmap);\n",
        "\n",
        "// capture the stop time\n",
        "cudaEventRecord( stop, 0);\n",
        "cudaEventSynchronize(stop);\n",
        "float elapsedTime;\n",
        "cudaEventElapsedTime(&elapsedTime, start, stop);\n",
        "\n",
        "\n",
        "cudaMemcpy( bitmap, dev_bitmap, image_size, cudaMemcpyDeviceToHost);\n",
        "printf(\"Time: %f ms\\n\", elapsedTime);\n",
        "float elapsed_time;\n",
        "cudaEventElapsedTime(&elapsed_time, start, stop);\n",
        "printf(\"Time: %.3f milliseconds\\n\", elapsed_time);\n",
        "\n",
        "save_to_file(bitmap);\n",
        "\n",
        "\n",
        "\n",
        "\n",
        "}\n",
        "\n"
      ],
      "metadata": {
        "colab": {
          "base_uri": "https://localhost:8080/"
        },
        "id": "H2usjP_U8Oc4",
        "outputId": "764f8440-eb4b-4db8-8166-b52cb64b6506"
      },
      "execution_count": 7,
      "outputs": [
        {
          "output_type": "stream",
          "name": "stdout",
          "text": [
            "Time: 11.296800 ms\n",
            "Time: 11.297 milliseconds\n",
            "\n"
          ]
        }
      ]
    },
    {
      "cell_type": "markdown",
      "source": [
        "# Wersja na CPU"
      ],
      "metadata": {
        "id": "1JIIy2QJXUQF"
      }
    },
    {
      "cell_type": "markdown",
      "source": [
        "## Wykorzystujaca procesor\n",
        "\n",
        "# Opis programu\n",
        "\n",
        "## 1. %%cu - wykorzystane by moc kompilowac kod cuda w Google Collab \n",
        "## 2. Definicje Preprocesora i zaimportowanie biblioteki\n",
        "## 3. Stworzenie Struktury Sphere, reprezentuje ona kule w przestrzeni 3D \n",
        "## 3.1. if w Sphere\n",
        "### Warunek dx*dx + dy*dy < radius*radius sprawdza, czy \n",
        "### odległość piksela od środka kuli jest mniejsza od promienia kuli. Jeśli tak, to promień przecina się z kulą.\n",
        "\n",
        "### Zmienna dz jest obliczana jako pierwiastek kwadratu odległości (sqrtf( radius*radius - dx*dx - dy*dy )). Jest to wysokość przecięcia promienia z kulą.\n",
        "\n",
        "### Zmienna n jest wskaźnikiem do zmiennej, do której kernel zapisze kąt padania promienia na powierzchnię kuli. Kąt ten jest obliczany jako stosunek wysokości przecięcia do promienia kuli (dz / sqrtf( radius * radius )).\n",
        "\n",
        "### Wartość zwracana przez fragment kodu to wysokość przecięcia promienia z kulą (dz) powiększona o współrzędną z kuli (z).\n",
        "\n",
        "### Jeśli promień nie przecina się z kulą, to warunek dx*dx + dy*dy < radius*radius jest fałszywy i fragment kodu nie jest wykonywany. W takim przypadku kernel zwraca wartość -INF, co oznacza, że promień nie przecina się z żadnym obiektem.\n",
        "## 4. Funkcja kernel przyjmuje dwa argumenty: wskaźnik do tablicy Sphere i wskaźnik do tablicy pikseli. Zaczyna od przejścia przez wszystkie wiersze i kolumny w obrazie i obliczenia pozycji piksela w przestrzeni 3D. Następnie rzuca promień z pozycji piksela przez środek płaszczyzny obrazu i sprawdza, z którą kulą promień się przecina. Jeśli promień przecina się z kulą, funkcja oblicza odległość od kuli i ustawia kolor piksela na kolor kuli.\n",
        "## 5.  save to file zapisuje plik do plik .ppm\n",
        "## 6. main liczy czas , wywoluje funkcje \n",
        "## 7. Rózni sie wersja na CPU od GPU tym ze wersja na CPU nie wykorzystuje równoległosci przez co obliczenia sa dłuzsze , W wersji na GPU mamy mapowanie  od threadIdx/BlockIdx do pozycji pixele {\n",
        "##    int x = threadIdx.x + blockIdx.x * blockDim.x;\n",
        "##    int y = threadIdx.y + blockIdx.y * blockDim.y;\n",
        "##    int offset = x + y * blockDim.x * gridDim.x;\n",
        "## }\n",
        "## natomiast w wersji na CPU wykorzystuje się petle by przejsc przez pixele "
      ],
      "metadata": {
        "id": "dfzFhTgHXVCG"
      }
    },
    {
      "cell_type": "code",
      "source": [
        "%%cu\n",
        "#include <stdio.h>\n",
        "#define DIM 6000\n",
        "#define rnd( x ) (x * rand() / RAND_MAX)\n",
        "#define INF     2e10f\n",
        "\n",
        "struct Sphere {\n",
        "    float   r,b,g;\n",
        "    float   radius;\n",
        "    float   x,y,z;\n",
        "    float hit( float ox, float oy, float *n ) {\n",
        "        float dx = ox - x;\n",
        "        float dy = oy - y;\n",
        "        if (dx*dx + dy*dy < radius*radius) {\n",
        "            float dz = sqrtf( radius*radius - dx*dx - dy*dy );\n",
        "            *n = dz / sqrtf( radius * radius );\n",
        "            return dz + z;\n",
        "        }\n",
        "        return -INF;\n",
        "    }\n",
        "};\n",
        "#define SPHERES 20\n",
        "\n",
        "\n",
        "void kernel(Sphere *s, unsigned char *ptr) {\n",
        "  for (int y = 0; y < DIM; y++) {\n",
        "    for (int x = 0; x < DIM; x++) {\n",
        "      int offset = x + y * DIM;\n",
        "      float ox = (x - DIM / 2);\n",
        "      float oy = (y - DIM / 2);\n",
        "\n",
        "      float r = 0, g = 0, b = 0;\n",
        "      float maxz = -INF;\n",
        "      for (int i = 0; i < SPHERES; i++) {\n",
        "        float n;\n",
        "        float t = s[i].hit(ox, oy, &n);\n",
        "        if (t > maxz) {\n",
        "          float fscale = n;\n",
        "          r = s[i].r * fscale;\n",
        "          g = s[i].g * fscale;\n",
        "          b = s[i].b * fscale;\n",
        "          maxz = t;\n",
        "        }\n",
        "      }\n",
        "\n",
        "      ptr[offset * 4 + 0] = (int)(r * 255);\n",
        "      ptr[offset * 4 + 1] = (int)(g * 255);\n",
        "      ptr[offset * 4 + 2] = (int)(b * 255);\n",
        "      ptr[offset * 4 + 3] = 255;\n",
        "    }\n",
        "  }\n",
        "}\n",
        "\n",
        "\n",
        "struct DataBlock{\n",
        "    unsigned char *dev_bitmap;\n",
        "};\n",
        "\n",
        "void save_to_file(unsigned char *ptr){\n",
        "  FILE *fp=fopen(\"RayTracinggpu.ppm\",\"w\");\n",
        "  fprintf(fp,\"P3\\n%d %d\\n255\\n\", DIM, DIM);\n",
        "  for(int y=0;y<DIM;y++){\n",
        "    for(int x=0;x<DIM;x++){\n",
        "      int offset=x+y*DIM;\n",
        "      fprintf(fp,\"\\n%d %d %d\", ptr[offset*4+0], ptr[offset*4+1], ptr[offset*4+2]);\n",
        "    }\n",
        "  }\n",
        "  fclose(fp);\n",
        "}\n",
        "int main(void) {\n",
        "    \n",
        "  // capture the start time \n",
        "  clock_t start, stop;\n",
        "  start = clock();\n",
        "  // allocate memory for the Sphere dataset\n",
        "  Sphere *s = (Sphere*)malloc(sizeof(Sphere)* SPHERES );\n",
        "  unsigned char *bitmap = (unsigned char*)malloc(DIM* DIM*4* sizeof(unsigned char));\n",
        "\n",
        "  // allocate temp memory, initialize it, copy to\n",
        "  // memory on the GPU, then free our temp memory\n",
        "  Sphere *temp_s = (Sphere*)malloc(sizeof(Sphere)* SPHERES );\n",
        "  for (int i=0; i<SPHERES; i++) {\n",
        "   //  temp_s[i].r = rnd( 1.0f);\n",
        "   //  temp_s[i].g= rnd( 1.0f);\n",
        "   //  temp_s[1].b= rnd( 1.0f);\n",
        "   //  temp_s[i].radius= rnd( 30.0f ) + 10.0f;\n",
        "   //  temp_s[i].x= rnd( 100.0f ) - 50.0f;\n",
        "   //  temp_s[i].y= rnd( 100.0f ) - 50.0f;\n",
        "   //  temp_s[i].z= rnd( 100.0f ) - 50.0f;\n",
        "    temp_s[i].r = rnd( 1.0f);\n",
        "     temp_s[i].g= rnd( 1.0f);\n",
        "     temp_s[1].b= rnd( 1.0f);\n",
        "     temp_s[i].x =rnd( 1000.0f)- 500;\n",
        "     temp_s[i].y =rnd( 1000.0f) - 500;\n",
        "     temp_s[1].z = rnd( 1000.0f) - 500;\n",
        "     temp_s[i].radius = rnd( 100.0f) + 20;\n",
        "  }\n",
        "\n",
        "  memcpy(s, temp_s, sizeof(Sphere)* SPHERES );\n",
        "  free(temp_s);\n",
        "\n",
        "\n",
        "  kernel(s, bitmap);\n",
        "\n",
        "  // capture the stop time\n",
        "  stop = clock();\n",
        "\n",
        "  printf(\"Time: %.7f seconds\\n\", ((double)(stop-start))/CLOCKS_PER_SEC);\n",
        " printf(\"Time: %.3f milliseconds\\n\", ((double)(stop-start))/CLOCKS_PER_SEC*1000); \n",
        "\n",
        "  // Save the image to a file\n",
        "  save_to_file(bitmap);\n",
        "\n",
        "  // free the device memory\n",
        "  free(s);\n",
        "\n",
        "  return 0;\n",
        "}"
      ],
      "metadata": {
        "colab": {
          "base_uri": "https://localhost:8080/"
        },
        "id": "U7-eUBvR-v79",
        "outputId": "832e0bca-c530-40db-aaea-53c4068adeaf"
      },
      "execution_count": 6,
      "outputs": [
        {
          "output_type": "stream",
          "name": "stdout",
          "text": [
            "Time: 6.2142470 seconds\n",
            "Time: 6214.247 milliseconds\n",
            "\n"
          ]
        }
      ]
    },
    {
      "cell_type": "markdown",
      "source": [],
      "metadata": {
        "id": "MnUgX3r68Ni1"
      }
    },
    {
      "cell_type": "code",
      "source": [
        "import matplotlib.pyplot as plt\n",
        "\n",
        "\n",
        "# dodanie do tablic wartosci time i dim  \n",
        "time_ms_cpu =  [0 , 724.474 ,1536 , 4287,6214.247]\n",
        "dim_cpu = [0 ,2048 , 3000 , 5000 , 6000]\n",
        "\n",
        "time_ms_GPU = [0, 1.37 , 3, 7.888320 , 11.297  ]\n",
        "dim_GPU = [ 0 ,2048 , 3000 , 5000 , 6000 ]\n",
        "\n",
        "# stowrzenie wykresu funkcja plot\n",
        "plt.plot( dim_cpu, time_ms_cpu,color='blue', label='CPU')\n",
        "plt.plot(dim_GPU ,time_ms_GPU  , color='red' , label='GPU' )\n",
        "\n",
        "# tytyl , os x i y \n",
        "plt.xlabel('Time (milliseconds)')\n",
        "plt.ylabel('DIM')\n",
        "plt.title('DIM over Time')\n",
        "\n",
        "# pokaz wykres \n",
        "plt.show()"
      ],
      "metadata": {
        "colab": {
          "base_uri": "https://localhost:8080/",
          "height": 295
        },
        "id": "RUl_x_mL8Gm8",
        "outputId": "42083983-28ad-43fe-b458-1b313dc51ece"
      },
      "execution_count": 8,
      "outputs": [
        {
          "output_type": "display_data",
          "data": {
            "text/plain": [
              "<Figure size 432x288 with 1 Axes>"
            ],
            "image/png": "[encoded data removed]"
          },
          "metadata": {
            "needs_background": "light"
          }
        }
      ]
    },
    {
      "cell_type": "markdown",
      "source": [
        "# GPU Czerwona \n",
        "# CPU Niebieski"
      ],
      "metadata": {
        "id": "jYEUjtVQ_SIy"
      }
    }
  ]
}